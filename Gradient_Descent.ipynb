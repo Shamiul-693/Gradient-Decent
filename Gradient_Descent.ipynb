{
  "nbformat": 4,
  "nbformat_minor": 0,
  "metadata": {
    "colab": {
      "provenance": []
    },
    "kernelspec": {
      "name": "python3",
      "display_name": "Python 3"
    },
    "language_info": {
      "name": "python"
    }
  },
  "cells": [
    {
      "cell_type": "code",
      "execution_count": 7,
      "metadata": {
        "id": "f0oL5l5KSq0e"
      },
      "outputs": [],
      "source": [
        "X,y = make_regression(n_samples = 100, n_features = 1,  n_informative = 1, \n",
        "                      n_targets = 1,noise=10, random_state = 13)"
      ]
    },
    {
      "cell_type": "code",
      "source": [
        "import pandas as pd\n",
        "import numpy as np\n",
        "import matplotlib.pyplot as plt\n",
        "from sklearn.datasets import make_classification, make_regression\n",
        "from sklearn.model_selection import train_test_split\n",
        "from sklearn.metrics import accuracy_score"
      ],
      "metadata": {
        "id": "0Yqq_uz7TTVz"
      },
      "execution_count": 8,
      "outputs": []
    },
    {
      "cell_type": "code",
      "source": [
        "plt.scatter(X,y)\n",
        "plt.show()"
      ],
      "metadata": {
        "colab": {
          "base_uri": "https://localhost:8080/",
          "height": 265
        },
        "id": "ACvrJ4JaS7c8",
        "outputId": "3c53cffe-dc58-423d-f4d9-848327f0b5a2"
      },
      "execution_count": 9,
      "outputs": [
        {
          "output_type": "display_data",
          "data": {
            "text/plain": [
              "<Figure size 432x288 with 1 Axes>"
            ],
            "image/png": "[encoded data removed]"
          },
          "metadata": {
            "needs_background": "light"
          }
        }
      ]
    },
    {
      "cell_type": "code",
      "source": [
        "from sklearn.linear_model import LinearRegression \n",
        "lreg = LinearRegression()\n",
        "lreg.fit(X,y)"
      ],
      "metadata": {
        "colab": {
          "base_uri": "https://localhost:8080/"
        },
        "id": "H6ULxfzPS7fj",
        "outputId": "8c5265b0-6795-4cef-a0a8-4fec475bf8c6"
      },
      "execution_count": 10,
      "outputs": [
        {
          "output_type": "execute_result",
          "data": {
            "text/plain": [
              "LinearRegression()"
            ]
          },
          "metadata": {},
          "execution_count": 10
        }
      ]
    },
    {
      "cell_type": "code",
      "source": [
        "m = lreg.coef_\n",
        "b = lreg.intercept_\n",
        "print(f'm={m} b={b}')\n",
        "line = m*X.reshape(100)+b\n",
        "print(line[0:2])"
      ],
      "metadata": {
        "colab": {
          "base_uri": "https://localhost:8080/"
        },
        "id": "GjJG5o-jS7h8",
        "outputId": "583a507f-5f63-41f9-d7c1-491f65ae10d8"
      },
      "execution_count": 11,
      "outputs": [
        {
          "output_type": "stream",
          "name": "stdout",
          "text": [
            "m=[27.71819977] b=-1.1473722793384897\n",
            "[-20.89355896 -13.26426289]\n"
          ]
        }
      ]
    },
    {
      "cell_type": "code",
      "source": [
        "plt.scatter(X,y)\n",
        "plt.plot(X,lreg.predict(X),color='red')\n",
        "plt.show()"
      ],
      "metadata": {
        "colab": {
          "base_uri": "https://localhost:8080/",
          "height": 265
        },
        "id": "tbCnQhJJS7kI",
        "outputId": "a4458d5a-a821-49ec-9288-517f06405a02"
      },
      "execution_count": 12,
      "outputs": [
        {
          "output_type": "display_data",
          "data": {
            "text/plain": [
              "<Figure size 432x288 with 1 Axes>"
            ],
            "image/png": "[encoded data removed]"
          },
          "metadata": {
            "needs_background": "light"
          }
        }
      ]
    },
    {
      "cell_type": "code",
      "source": [
        "# we and the same m and b by our algorithm\n",
        "# m=[27.71819977] b=-1.1473722793384897\n",
        "\n",
        "m = 1\n",
        "b = 0\n",
        "initial_line=(m*X+b).reshape(100)\n",
        "plt.scatter(X,y)\n",
        "plt.plot(X,initial_line,color='red')\n",
        "plt.show()"
      ],
      "metadata": {
        "colab": {
          "base_uri": "https://localhost:8080/",
          "height": 265
        },
        "id": "WS9yaygcTH_0",
        "outputId": "f57daaa6-4ef3-4b9f-e2a1-b4e5ff11d870"
      },
      "execution_count": 13,
      "outputs": [
        {
          "output_type": "display_data",
          "data": {
            "text/plain": [
              "<Figure size 432x288 with 1 Axes>"
            ],
            "image/png": "[encoded data removed]"
          },
          "metadata": {
            "needs_background": "light"
          }
        }
      ]
    },
    {
      "cell_type": "code",
      "source": [
        "# Initial values\n",
        "#  This is Batch GD\n",
        "m = -56\n",
        "b = 10\n",
        "lr = 0.001\n",
        "for i in range(10000):\n",
        "  slope_b = -2*np.sum(y-m*X.ravel()-b)\n",
        "  slope_m = -2*np.sum((y-m*X.ravel()-b)*X.ravel())\n",
        "  b = b - lr*slope_b\n",
        "  m = m - lr*slope_m\n",
        "\n",
        "print(f'Actual m:{lreg.coef_}   b:{lreg.intercept_}')\n",
        "print(f'Predicted m:{m}   b:{b}')"
      ],
      "metadata": {
        "colab": {
          "base_uri": "https://localhost:8080/"
        },
        "id": "3PmMUfZOTICT",
        "outputId": "2772d4a0-13ae-482c-a17e-d6445af12512"
      },
      "execution_count": 14,
      "outputs": [
        {
          "output_type": "stream",
          "name": "stdout",
          "text": [
            "Actual m:[27.71819977]   b:-1.1473722793384897\n",
            "Predicted m:27.718199765142987   b:-1.1473722793384886\n"
          ]
        }
      ]
    },
    {
      "cell_type": "code",
      "source": [
        "# Initial values\n",
        "#  This is Stochastic GD\n",
        "m = -56\n",
        "b = 10\n",
        "lr = 0.001\n",
        "for i in range(10000):\n",
        "  sample = np.random.randint(100)\n",
        "  slope_b = -2*np.sum(y[sample]-m*X[sample]-b)\n",
        "  slope_m = -2*np.sum((y[sample]-m*X[sample]-b)*X.ravel())\n",
        "  b = b - lr*slope_b\n",
        "  m = m - lr*slope_m\n",
        "\n",
        "print(f'Actual m:{lreg.coef_}   b:{lreg.intercept_}')\n",
        "print(f'Predicted m:{m}   b:{b}')"
      ],
      "metadata": {
        "colab": {
          "base_uri": "https://localhost:8080/"
        },
        "id": "tcx-X22GTLF0",
        "outputId": "72fd9463-e98e-46cc-8836-ba710c13025d"
      },
      "execution_count": 15,
      "outputs": [
        {
          "output_type": "stream",
          "name": "stdout",
          "text": [
            "Actual m:[27.71819977]   b:-1.1473722793384897\n",
            "Predicted m:-58.19243180185787   b:9.62463110253551\n"
          ]
        }
      ]
    },
    {
      "cell_type": "code",
      "source": [
        "# we and the same m and b by our algorithm\n",
        "# m=[27.71819977] b=-1.1473722793384897\n",
        "\n",
        "line=(m*X+b).reshape(100)\n",
        "plt.scatter(X,y)\n",
        "plt.plot(X,initial_line,color='red')\n",
        "plt.show()"
      ],
      "metadata": {
        "colab": {
          "base_uri": "https://localhost:8080/",
          "height": 265
        },
        "id": "BVDW2TJZTLIT",
        "outputId": "c18264ab-9bf7-4e50-a7bc-63ecaf24c9ee"
      },
      "execution_count": 16,
      "outputs": [
        {
          "output_type": "display_data",
          "data": {
            "text/plain": [
              "<Figure size 432x288 with 1 Axes>"
            ],
            "image/png": "[encoded data removed]"
          },
          "metadata": {
            "needs_background": "light"
          }
        }
      ]
    },
    {
      "cell_type": "code",
      "source": [],
      "metadata": {
        "id": "yUBdKbM3TRxj"
      },
      "execution_count": 16,
      "outputs": []
    },
    {
      "cell_type": "code",
      "source": [],
      "metadata": {
        "id": "GIuxqt7mTLKv"
      },
      "execution_count": 16,
      "outputs": []
    },
    {
      "cell_type": "code",
      "source": [],
      "metadata": {
        "id": "eAF33N3TTLMs"
      },
      "execution_count": 16,
      "outputs": []
    },
    {
      "cell_type": "code",
      "source": [],
      "metadata": {
        "id": "TCBTp-gjTLPD"
      },
      "execution_count": 16,
      "outputs": []
    }
  ]
}